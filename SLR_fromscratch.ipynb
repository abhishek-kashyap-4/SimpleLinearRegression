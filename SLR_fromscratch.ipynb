import numpy as np
import matplotlib.pyplot as plt
import pandas as pd


dataset = pd.read_csv('Salary_Data.csv')
x = dataset.iloc[:, :-1].values
y = dataset.iloc[:, 1].values

from sklearn.model_selection import train_test_split
xtr,xte,ytr,yte = train_test_split(x, y, test_size = 1/3)

#y=b0+b1x
b1_num=0
b1_denom=0
x_sum=0
y_sum=0
for i in range(len(xtr)):
  x_sum+=xtr[i]
  y_sum+=ytr[i]
x_mean=x_sum/len(xtr)
y_mean=y_sum/len(xtr)

for i in range(len(xtr)):
  b1_num+=(xtr[i]-x_mean)*(ytr[i]-y_mean)
  b1_denom+=(xtr[i]-x_mean)**2
b1=b1_num/b1_denom

b0=y_mean-(b1*x_mean)
print(b0)
print(b1)


x_plot=np.linspace(0,10,2)
y_plot=b0+b1*x_plot
#visulaizing
#training
plt.scatter(xtr, ytr, color = 'red')
plt.plot(x_plot, y_plot, color = 'blue') 
plt.title('Salary vs Experience (Training set)')
plt.xlabel('Years of Experience')
plt.ylabel('Salary')
plt.show()

# test
plt.scatter(xte, yte, color = 'red')
plt.plot(x_plot, y_plot, color = 'blue')#training needs to be plotted, not test.
plt.title('Salary vs Experience (Test set)')
plt.xlabel('Years of Experience')
plt.ylabel('Salary')
plt.show()
